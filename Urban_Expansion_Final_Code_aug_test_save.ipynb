{
  "cells": [
    {
      "cell_type": "markdown",
      "metadata": {
        "id": "view-in-github",
        "colab_type": "text"
      },
      "source": [
        "<a href=\"https://colab.research.google.com/github/rradams/MUSA650_RemoteSensing_Final/blob/main/Urban_Expansion_Final_Code_aug_test_save.ipynb\" target=\"_parent\"><img src=\"https://colab.research.google.com/assets/colab-badge.svg\" alt=\"Open In Colab\"/></a>"
      ]
    },
    {
      "cell_type": "markdown",
      "metadata": {
        "id": "BfN2tFXYWcIe"
      },
      "source": [
        "**MUSA 650: Remote Sensing - Final Project**\n",
        "\n",
        "Identifying Urban Expansion in Cirebon, Indonesia\n",
        "\n",
        "Rebekah Adams and Tiffany Tran"
      ]
    },
    {
      "cell_type": "code",
      "execution_count": null,
      "metadata": {
        "id": "6osohCiwWzoq"
      },
      "outputs": [],
      "source": [
        "#from google.colab import drive\n",
        "#drive.mount('/content/drive')\n",
        "# test"
      ]
    },
    {
      "cell_type": "code",
      "execution_count": null,
      "metadata": {
        "id": "neXI8LOezd43",
        "outputId": "e4820e51-1df3-44d0-e67e-d3beec7986a3"
      },
      "outputs": [
        {
          "data": {
            "text/plain": [
              "'c:\\\\Users\\\\tfmtr\\\\OneDrive\\\\Documents\\\\School\\\\Penn Design\\\\MUSA650\\\\Assignments\\\\Project'"
            ]
          },
          "execution_count": 83,
          "metadata": {},
          "output_type": "execute_result"
        }
      ],
      "source": [
        "pwd"
      ]
    },
    {
      "cell_type": "code",
      "execution_count": null,
      "metadata": {
        "id": "LmGz7C4D8PUq"
      },
      "outputs": [],
      "source": [
        "# from keras.models import Sequential\n",
        "# from keras.layers import Dense, Dropout, Flatten\n",
        "# from keras.layers import Conv2D, MaxPooling2D\n",
        "import math\n",
        "# from keras.utils.vis_utils import plot_model\n",
        "# from tensorflow.keras.optimizers import RMSprop # optimizer\n",
        "# import keras\n",
        "# import tensorflow as tf\n",
        "from sklearn.metrics import ConfusionMatrixDisplay, confusion_matrix\n",
        "import matplotlib.pyplot as plt\n"
      ]
    },
    {
      "cell_type": "markdown",
      "metadata": {
        "id": "7makCSI3mI2j"
      },
      "source": [
        "# Set up functions"
      ]
    },
    {
      "cell_type": "code",
      "execution_count": null,
      "metadata": {
        "id": "WdP6RE4yQcXN"
      },
      "outputs": [],
      "source": [
        "import pandas as pd\n",
        "\n",
        "# Create dataframe of prediction accuracies\n",
        "\n",
        "def prediction_by_category(model, test_set):\n",
        "  categories_dict = {0:\"Urban\", 1:\"Not_Urban\"}\n",
        "  predict_x=model.predict(test_set) # predictions with probabilities for each class\n",
        "\n",
        "  # find accurate predictions\n",
        "  label_count = np.unique(Y_test, return_counts = True)[1] # number of labels of test set\n",
        "  classes_x=np.argmax(predict_x,axis=1) # the class with the highest-predicted probabilities, i.e. the best guess\n",
        "  y_test_pred = [categories_dict[x] for x in classes_x] # convert the predictions to the category names\n",
        "  y_test_true = [categories_dict[x] for x in Y_test] # convert the true labels to the category names\n",
        "\n",
        "  # Create dataframe\n",
        "  pred_df = pd.DataFrame({'y_true': y_test_true, 'y_pred': y_test_pred})\n",
        "  pred_df['accurate_preds'] = pred_df.y_true == pred_df.y_pred\n",
        "  pred_df = pred_df.groupby(['y_true']).sum().reset_index()\n",
        "  pred_df['label_count'] = label_count\n",
        "  pred_df['class_acc'] = pred_df.accurate_preds / pred_df.label_count\n",
        "  pred_df['overall_acc'] = sum(pred_df.accurate_preds) / sum(pred_df.label_count)\n",
        "\n",
        "  return(pred_df)"
      ]
    },
    {
      "cell_type": "code",
      "execution_count": null,
      "metadata": {
        "id": "Ar963c3wVGdn"
      },
      "outputs": [],
      "source": [
        "# Create function to plot confusion matrix\n",
        "def plot_cm(model, test_data, title):\n",
        "  predict_x = model.predict(test_data)\n",
        "  classes_x = np.argmax(predict_x, axis=1)\n",
        "  cm = confusion_matrix(Y_test, classes_x)\n",
        "  disp = ConfusionMatrixDisplay(confusion_matrix= cm,\n",
        "                                display_labels=categories)\n",
        "  \n",
        "  return(\n",
        "      disp.plot(),\n",
        "      disp.ax_.set_title(f\"{title}\")\n",
        "  )"
      ]
    },
    {
      "cell_type": "code",
      "execution_count": null,
      "metadata": {
        "id": "32j7o8muQ6M5"
      },
      "outputs": [],
      "source": [
        "# Create function to plot ROC curve - how to make less angular?\n",
        "from sklearn.metrics import roc_curve, auc\n",
        "\n",
        "def plot_roc_curve(model, test_set):\n",
        "  predict_x=model.predict(test_set) # predictions with probabilities for each class\n",
        "  classes_x=np.argmax(predict_x,axis=1) # the class with the highest-predicted probabilities, i.e. the best guess\n",
        "\n",
        "  # Compute fpr, tpr, thresholds and roc auc\n",
        "  fpr, tpr, thresholds = roc_curve(Y_test, classes_x)\n",
        "  roc_auc = auc(fpr, tpr)\n",
        "\n",
        "  # Plot ROC curve\n",
        "  return(\n",
        "      plt.plot(fpr, tpr, label='ROC curve (area = %0.3f)' % roc_auc),\n",
        "      plt.plot([0, 1], [0, 1], 'k--'),  # random predictions curve\n",
        "      plt.xlim([0.0, 1.0]),\n",
        "      plt.ylim([0.0, 1.0]),\n",
        "      plt.xlabel('False Positive Rate or (1 - Specifity)'),\n",
        "      plt.ylabel('True Positive Rate or (Sensitivity)'),\n",
        "      plt.title('Receiver Operating Characteristic'),\n",
        "      plt.legend(loc=\"lower right\")\n",
        "  )\n"
      ]
    },
    {
      "cell_type": "code",
      "execution_count": null,
      "metadata": {
        "id": "pPkJ80PCj3QF"
      },
      "outputs": [],
      "source": [
        "  # Plot images of False Positives - images that were predicted as Urban, but were actually Not Urban\n",
        "  # This could help us identify areas of urban expansion\n",
        "\n",
        "from mpl_toolkits.axes_grid1 import ImageGrid\n",
        "\n",
        "def plot_false_positives(model, test_set):\n",
        "\n",
        "    predict_x = model.predict(test_set)\n",
        "    classes_x = np.argmax(predict_x,axis=1)\n",
        "    wrong_classifications = classes_x - Y_test # predicted classes - actual classes\n",
        "    wrong_classifications_index = np.where(wrong_classifications != 0) # index of where predictions were wrong\n",
        "    wrong_predictions = classes_x[wrong_classifications_index] # use index to find wrong predictions\n",
        "    wrong_y_true = Y_test[wrong_classifications_index] # use index to find correct labels of wrong predictions\n",
        "    wrong_x_true = X_test[wrong_classifications_index] # use index to find pixels of incorrectly-predicted images\n",
        "\n",
        "    # Identify False Positive - true Not Urban, predicted as Urban\n",
        "    FP_index = np.where(wrong_y_true == 1) # find labels Not Urban areas, i.e. the false positives (Non-Urban labelled as 1)\n",
        "    FP_labels = wrong_y_true[FP_index]\n",
        "    FP_images = wrong_x_true[FP_index]\n",
        "\n",
        "    # Select random sample of images from false positive results\n",
        "    index_list = []\n",
        "\n",
        "    for i in range(0,4):\n",
        "      random_index = np.random.choice(FP_labels.shape[0])\n",
        "      index_list.append(random_index)\n",
        "\n",
        "    # Use random index to select four random images\n",
        "    image_1 = FP_images[index_list[0]].reshape(64,64,3)\n",
        "    image_2 = FP_images[index_list[1]].reshape(64,64,3)\n",
        "    image_3 = FP_images[index_list[2]].reshape(64,64,3)\n",
        "    image_4 = FP_images[index_list[3]].reshape(64,64,3)\n",
        "\n",
        "    # Plot\n",
        "    fig = plt.figure() #figsize=(4., 4.))\n",
        "    grid = ImageGrid(fig, 111,  # similar to subplot(111)\n",
        "                    nrows_ncols=(2, 2),  # creates 2x2 grid of axes\n",
        "                    axes_pad=0.1,  # pad between axes in inch.\n",
        "                    )\n",
        "\n",
        "    for ax, im in zip(grid, [image_1, image_2, image_3, image_4]):\n",
        "        # Iterating over the grid returns the Axes.\n",
        "        ax.imshow(im)\n",
        "\n",
        "    return(grid.axes_all[1].set_title(\"Examples of False Positive Classifications - Predicted as Urban, but are officially not urban\"))"
      ]
    },
    {
      "cell_type": "code",
      "execution_count": null,
      "metadata": {
        "id": "j30ctPAhZcA9"
      },
      "outputs": [],
      "source": [
        "# Function to plot accuracy and loss for each model\n",
        "def plot_accuracy_and_loss(model_history):\n",
        "  return(\n",
        "    plt.plot(model_history.history['accuracy']),\n",
        "    plt.plot(model_history.history['val_accuracy']),\n",
        "    plt.title('model accuracy'),\n",
        "    plt.ylabel('accuracy'),\n",
        "    plt.xlabel('epoch'),\n",
        "    plt.legend(['train', 'test'], loc='upper left'),\n",
        "    plt.show(),\n",
        "\n",
        "    plt.plot(model_history.history['loss']),\n",
        "    plt.plot(model_history.history['val_loss']),\n",
        "    plt.title('model loss'),\n",
        "    plt.ylabel('loss'),\n",
        "    plt.xlabel('epoch'),\n",
        "    plt.legend(['train', 'test'], loc='upper left'),\n",
        "    plt.show(),\n",
        "  )"
      ]
    },
    {
      "cell_type": "markdown",
      "metadata": {
        "id": "BzqbBTb5mqkm"
      },
      "source": [
        "# Import images"
      ]
    },
    {
      "cell_type": "code",
      "execution_count": null,
      "metadata": {
        "id": "h2gE5XwQzd48"
      },
      "outputs": [],
      "source": [
        "# pip install imagecodecs"
      ]
    },
    {
      "cell_type": "code",
      "execution_count": null,
      "metadata": {
        "id": "4_dreaGAWcIg"
      },
      "outputs": [],
      "source": [
        "# import images\n",
        "\n",
        "import os\n",
        "import skimage\n",
        "from skimage import io\n",
        "import numpy as np\n",
        "from glob import glob\n",
        "from pathlib import Path\n",
        "import imagecodecs\n",
        "\n",
        "raw_labels =[]\n",
        "raw_images = []\n",
        "raw_label_names = []\n",
        "here = Path(os.getcwd())\n",
        "\n",
        "for idx, directory in enumerate((here / \"./data/cirebon\").glob(\"*\")): \n",
        "    for img_path in directory.glob(\"*.jpg\"):\n",
        "        raw_labels.append(idx)\n",
        "        raw_label_names.append(directory)\n",
        "        raw_images.append(io.imread(img_path))\n",
        "        \n",
        "# convert to numpy arrays\n",
        "images = np.array(raw_images)\n",
        "images = images[:, :64, :64, :3] # trim extra pixel and\n",
        "labels = np.array(raw_labels)\n",
        "label_names = np.array(raw_label_names)"
      ]
    },
    {
      "cell_type": "code",
      "execution_count": null,
      "metadata": {
        "colab": {
          "base_uri": "https://localhost:8080/"
        },
        "id": "d-ljHpakqUhi",
        "outputId": "9b78d65d-1de6-4c71-e183-7fb22118975a"
      },
      "outputs": [
        {
          "data": {
            "text/plain": [
              "array([WindowsPath('c:/Users/tfmtr/OneDrive/Documents/School/Penn Design/MUSA650/Assignments/Project/data/cirebon/non_urban'),\n",
              "       WindowsPath('c:/Users/tfmtr/OneDrive/Documents/School/Penn Design/MUSA650/Assignments/Project/data/cirebon/non_urban'),\n",
              "       WindowsPath('c:/Users/tfmtr/OneDrive/Documents/School/Penn Design/MUSA650/Assignments/Project/data/cirebon/non_urban'),\n",
              "       ...,\n",
              "       WindowsPath('c:/Users/tfmtr/OneDrive/Documents/School/Penn Design/MUSA650/Assignments/Project/data/cirebon/urban'),\n",
              "       WindowsPath('c:/Users/tfmtr/OneDrive/Documents/School/Penn Design/MUSA650/Assignments/Project/data/cirebon/urban'),\n",
              "       WindowsPath('c:/Users/tfmtr/OneDrive/Documents/School/Penn Design/MUSA650/Assignments/Project/data/cirebon/urban')],\n",
              "      dtype=object)"
            ]
          },
          "execution_count": 92,
          "metadata": {},
          "output_type": "execute_result"
        }
      ],
      "source": [
        "label_names"
      ]
    },
    {
      "cell_type": "code",
      "execution_count": null,
      "metadata": {
        "colab": {
          "base_uri": "https://localhost:8080/"
        },
        "id": "s6Wb5h-U5g8i",
        "outputId": "88b65426-40b7-471b-885c-2a175fcaeb91"
      },
      "outputs": [
        {
          "data": {
            "text/plain": [
              "array([0, 0, 0, ..., 1, 1, 1])"
            ]
          },
          "execution_count": 93,
          "metadata": {},
          "output_type": "execute_result"
        }
      ],
      "source": [
        "labels"
      ]
    },
    {
      "cell_type": "code",
      "execution_count": null,
      "metadata": {
        "id": "dj8XOkop6i-j"
      },
      "outputs": [],
      "source": [
        "# Switch 0s to 1s and 1s to 0s (so urban = 1, not_urban = 0) - test only\n",
        "# labels_test = labels\n",
        "\n",
        "# # flip 1s to 0s and 0s to 1s\n",
        "# array_flip = np.logical_not(labels_test).astype(int)\n",
        "\n",
        "# # print old vs. new array\n",
        "# print(labels_test)\n",
        "# print(array_flip)"
      ]
    },
    {
      "cell_type": "code",
      "execution_count": null,
      "metadata": {
        "id": "JHKZvMMUzd49",
        "outputId": "c11f43ab-ab61-4a0b-de6e-9ccb95bd7655"
      },
      "outputs": [
        {
          "name": "stdout",
          "output_type": "stream",
          "text": [
            "[0 0 0 ... 1 1 1]\n",
            "[1 1 1 ... 0 0 0]\n"
          ]
        }
      ],
      "source": [
        "# Switch 0s to 1s and 1s to 0s (so urban = 1, not_urban = 0)\n",
        "# flip 1s to 0s and 0s to 1s\n",
        "labels_flip = np.logical_not(labels).astype(int)\n",
        "\n",
        "# print old vs. new array\n",
        "print(labels)\n",
        "print(labels_flip)"
      ]
    },
    {
      "cell_type": "code",
      "execution_count": null,
      "metadata": {
        "id": "MWVgPFL9zd4-",
        "outputId": "c3d6b91e-183d-448e-b6c4-fd51767540a8"
      },
      "outputs": [
        {
          "data": {
            "text/plain": [
              "(114, 64, 64, 3)"
            ]
          },
          "execution_count": 165,
          "metadata": {},
          "output_type": "execute_result"
        }
      ],
      "source": [
        "# check urban shape\n",
        "urban_images.shape"
      ]
    },
    {
      "cell_type": "code",
      "execution_count": null,
      "metadata": {
        "colab": {
          "base_uri": "https://localhost:8080/"
        },
        "id": "DQ8EdU_J9T8W",
        "outputId": "a366df50-e775-42a0-e313-629f58343cce"
      },
      "outputs": [
        {
          "name": "stdout",
          "output_type": "stream",
          "text": [
            "Max pixel value is:  255\n",
            "Min pixel value is:  0\n"
          ]
        }
      ],
      "source": [
        "# Confrim the range of values in the dataset - yes, they are between 0 and 255\n",
        "print(\"Max pixel value is: \", images.max())\n",
        "print(\"Min pixel value is: \", images.min())"
      ]
    },
    {
      "cell_type": "code",
      "execution_count": null,
      "metadata": {
        "id": "MkUVnqGrK0Eu"
      },
      "outputs": [],
      "source": [
        "urban_labels_index = np.where(labels_flip == 0)\n",
        "urban_labels = labels_flip[urban_labels_index]\n",
        "urban_images = images[urban_labels_index]"
      ]
    },
    {
      "cell_type": "code",
      "execution_count": null,
      "metadata": {
        "id": "WJk3tsxcLPBk"
      },
      "outputs": [],
      "source": [
        "# Draw out just the non-urban images\n",
        "non_urban_labels_index = np.where(labels_flip == 1)\n",
        "non_urban_labels = labels_flip[non_urban_labels_index]\n",
        "non_urban_images = images[non_urban_labels_index]\n",
        "\n",
        "# Generate a random selection of non-urban images - the same number as urban images.\n",
        "NU_labels_subset = []\n",
        "NU_images_subset = []\n",
        "\n",
        "for i in range(0, urban_labels.shape[0]):\n",
        "  random_index_for_subset = np.random.choice(non_urban_labels.shape[0])\n",
        "  subset_label = non_urban_labels[random_index_for_subset]\n",
        "  subset_image = non_urban_images[random_index_for_subset]\n",
        "  NU_labels_subset.append(subset_label)\n",
        "  NU_images_subset.append(subset_image)\n",
        "\n",
        "# Convert to numpy arrays\n",
        "non_urban_images = np.array(NU_images_subset)\n",
        "non_urban_labels = np.array(NU_labels_subset)"
      ]
    },
    {
      "cell_type": "code",
      "execution_count": null,
      "metadata": {
        "id": "gwSgoYO8NGCp"
      },
      "outputs": [],
      "source": [
        "# Combine urban and non-urban images and labels - now we have equal numbers of urban and non-urban elements.\n",
        "subset_images = np.concatenate((non_urban_images, urban_images), axis = 0)\n",
        "subset_labels = np.concatenate((non_urban_labels, urban_labels), axis = 0)"
      ]
    },
    {
      "cell_type": "code",
      "execution_count": null,
      "metadata": {
        "colab": {
          "base_uri": "https://localhost:8080/",
          "height": 469
        },
        "id": "K3IBeErXgtPO",
        "outputId": "c436a7d1-6ab5-448d-d8aa-9bc34fe8406d"
      },
      "outputs": [
        {
          "data": {
            "text/plain": [
              "Text(0.5, 1.0, 'Category is: Not Urban')"
            ]
          },
          "execution_count": 154,
          "metadata": {},
          "output_type": "execute_result"
        },
        {
          "data": {
            "image/png": "[encoded data removed]",
            "text/plain": [
              "<Figure size 640x480 with 1 Axes>"
            ]
          },
          "metadata": {},
          "output_type": "display_data"
        }
      ],
      "source": [
        "# Visualize Images - note, some categories are not visible due to channels selected\n",
        "import matplotlib.pyplot as plt\n",
        "\n",
        "random_index = np.random.choice(subset_labels.shape[0],1)\n",
        "category_image = subset_images[random_index].reshape(64,64,3)\n",
        "categories = [\"Urban\", \"Not Urban\"] # currently 1 = urban and 0 = not urban\n",
        "plt.imshow(category_image)\n",
        "plt.title(f\"Category is: {categories[subset_labels[random_index][0]]}\")"
      ]
    },
    {
      "cell_type": "code",
      "execution_count": null,
      "metadata": {
        "id": "J9Sl6IoGwS8y"
      },
      "outputs": [],
      "source": [
        "# import sklearn\n",
        "\n",
        "# # split test and train data\n",
        "# from sklearn.model_selection import train_test_split \n",
        "\n",
        "# # using the train test split function\n",
        "# (X_train, X_test, Y_train, Y_test) = train_test_split(subset_images, subset_labels,\n",
        "#                                                       stratify = subset_labels,\n",
        "#                                                         random_state=104, \n",
        "#                                                         test_size=0.5, \n",
        "#                                                         shuffle=True)"
      ]
    },
    {
      "cell_type": "code",
      "execution_count": null,
      "metadata": {
        "id": "JymPqUTq0re0"
      },
      "outputs": [],
      "source": [
        "# Y_test"
      ]
    },
    {
      "cell_type": "markdown",
      "metadata": {
        "id": "pO5YPepOzd5A"
      },
      "source": [
        "# Data Augmentation"
      ]
    },
    {
      "cell_type": "code",
      "execution_count": null,
      "metadata": {
        "id": "mb3vaQRyzd5A"
      },
      "outputs": [],
      "source": [
        "# pip install protobuf==3.20.0"
      ]
    },
    {
      "cell_type": "code",
      "execution_count": null,
      "metadata": {
        "id": "3BGIYCQGzd5A"
      },
      "outputs": [],
      "source": [
        "# import libraries\n",
        "from tensorflow.keras.preprocessing.image import ImageDataGenerator\n",
        "from matplotlib.pyplot import imread, imshow, subplots, show"
      ]
    },
    {
      "cell_type": "code",
      "execution_count": null,
      "metadata": {
        "id": "QEUFwLoozd5A"
      },
      "outputs": [],
      "source": [
        "# function to plot augmented images\n",
        "\n",
        "def plot(data_generator):\n",
        "    \"\"\"\n",
        "    Plots 6 images generated by an object of the ImageDataGenerator class.\n",
        "    \"\"\"\n",
        "    data_generator.fit(urban_images_aug)\n",
        "    image_iterator = data_generator.flow(urban_images_aug)\n",
        "    \n",
        "    # plot images from iterator\n",
        "    fig, rows = subplots(nrows=1, ncols=6, figsize=(18,18))\n",
        "    for row in rows:\n",
        "        row.imshow(image_iterator.next()[0].astype('int'))\n",
        "        row.axis('off')\n",
        "    show()\n",
        "    \n"
      ]
    },
    {
      "cell_type": "code",
      "execution_count": null,
      "metadata": {
        "id": "yFReBJ5Mzd5B"
      },
      "outputs": [],
      "source": [
        "# # read in test image\n",
        "# image_test = imread('./data/cirebon/urban/urban_103.jpg')\n",
        "\n",
        "# # create dataset with one test image\n",
        "# images_test = image_test.reshape((1, image_test.shape[0], image_test.shape[1], image_test.shape[2]))\n",
        "\n",
        "# imshow(images_test[0])\n",
        "# show()"
      ]
    },
    {
      "cell_type": "code",
      "execution_count": null,
      "metadata": {
        "id": "QbqRhb2Hzd5B"
      },
      "outputs": [],
      "source": [
        "# apply transformations to test image\n",
        "# data_generator = ImageDataGenerator(rotation_range=180, fill_mode='reflect')\n",
        "# # data_generator = ImageDataGenerator(rotation_range=30, fill_mode='reflect')\n",
        "# plot(data_generator)"
      ]
    },
    {
      "cell_type": "code",
      "execution_count": null,
      "metadata": {
        "id": "ENBLHtfizd5B"
      },
      "outputs": [],
      "source": [
        "# # apply brightness\n",
        "# data_generator = ImageDataGenerator(brightness_range=(0.7, 1.3))\n",
        "# plot(data_generator)\n",
        "\n",
        "# # let's not use this method"
      ]
    },
    {
      "cell_type": "code",
      "execution_count": null,
      "metadata": {
        "id": "BhBCvHn6zd5B"
      },
      "outputs": [],
      "source": [
        "# # apply zoom\n",
        "# data_generator = ImageDataGenerator(zoom_range=[0.2, 2.5])\n",
        "# plot(data_generator)\n",
        "\n",
        "# # let's not use this method"
      ]
    },
    {
      "cell_type": "code",
      "execution_count": null,
      "metadata": {
        "id": "wJ2kIB4Dzd5B",
        "outputId": "7a3757c6-e7b9-4c73-888d-9bcae6f12a66"
      },
      "outputs": [
        {
          "data": {
            "image/png": "[encoded data removed]",
            "text/plain": [
              "<Figure size 640x480 with 1 Axes>"
            ]
          },
          "metadata": {},
          "output_type": "display_data"
        }
      ],
      "source": [
        "from matplotlib.pyplot import imread, imshow, subplots, show\n",
        "\n",
        "# create dataset with all urban images (batch_size, height, width, channels)\n",
        "urban_images_aug = urban_images.reshape((urban_images.shape[0], 64, 64, 3))\n",
        "\n",
        "imshow(urban_images_aug[33]) # show one image\n",
        "show()"
      ]
    },
    {
      "cell_type": "code",
      "execution_count": null,
      "metadata": {
        "id": "ZL8hQ-WZzd5C",
        "outputId": "1692927b-b9c1-4e67-e76f-dd9bc06438f1"
      },
      "outputs": [
        {
          "data": {
            "text/plain": [
              "(114, 64, 64, 3)"
            ]
          },
          "execution_count": 205,
          "metadata": {},
          "output_type": "execute_result"
        }
      ],
      "source": [
        "# check dataset shape; should be (114, 64, 64, 3)\n",
        "urban_images_aug.shape"
      ]
    },
    {
      "cell_type": "code",
      "execution_count": null,
      "metadata": {
        "id": "AE9iY-M1zd5C",
        "outputId": "f8482694-33f2-4eee-d4ec-a11b3dfbaec6"
      },
      "outputs": [
        {
          "data": {
            "image/png": "[encoded data removed]",
            "text/plain": [
              "<Figure size 1800x1800 with 6 Axes>"
            ]
          },
          "metadata": {},
          "output_type": "display_data"
        }
      ],
      "source": [
        "# apply transformations to urban images\n",
        "data_generator = ImageDataGenerator(rotation_range=180, fill_mode='reflect')\n",
        "\n",
        "plot(data_generator)"
      ]
    },
    {
      "cell_type": "code",
      "execution_count": null,
      "metadata": {
        "id": "eGkLVq7izd5C"
      },
      "outputs": [],
      "source": [
        "# generate augmented images\n",
        "train_generator = data_generator.flow(urban_images_aug, batch_size=32)"
      ]
    },
    {
      "cell_type": "code",
      "execution_count": null,
      "metadata": {
        "id": "yWQJ8HeBzd5C"
      },
      "outputs": [],
      "source": [
        "# train model on augmented images\n",
        "# model.fit_generator(train_generator, epochs=10, steps_per_epoch=len(x_train) / 32)"
      ]
    },
    {
      "cell_type": "markdown",
      "metadata": {
        "id": "EKUhRdaF79W2"
      },
      "source": [
        "# Model 1 - Self-Made CNN"
      ]
    },
    {
      "cell_type": "code",
      "execution_count": null,
      "metadata": {
        "id": "cfKI2BY5RE1E"
      },
      "outputs": [],
      "source": [
        "# input_shape = (images.shape[1], images.shape[2], images.shape[3])\n",
        "# num_classes = 2\n",
        "\n",
        "# handmade_cnn = Sequential()\n",
        "# handmade_cnn.add(Conv2D(32, kernel_size=(3, 3), # Conv2D layer - apply 32 convolutions with a 3x3 kernel\n",
        "#                  activation='relu',\n",
        "#                  input_shape=input_shape))\n",
        "# handmade_cnn.add(MaxPooling2D(pool_size=(2, 2))) # Max Pooling 2D layer\n",
        "# handmade_cnn.add(Dropout(0.25)) # drop out\n",
        "# handmade_cnn.add(Flatten()) # flatten before putting into dense network\n",
        "# handmade_cnn.add(Dense(num_classes, activation='softmax')) # dense layer\n",
        "\n",
        "# # comment out summary for space\n",
        "# #handmade_cnn.summary()\n",
        "# #plot_model(handmade_cnn, show_shapes=True, show_layer_names=True)"
      ]
    },
    {
      "cell_type": "code",
      "execution_count": null,
      "metadata": {
        "id": "s9Nw5CNGRcTH"
      },
      "outputs": [],
      "source": [
        "# # compile model\n",
        "# handmade_cnn.compile(\n",
        "#     loss='categorical_crossentropy',\n",
        "#     optimizer = \"Adam\",\n",
        "#               #optimizer=RMSprop(),\n",
        "#               metrics=['accuracy'])\n",
        "\n",
        "# # convert class vectors to binary class matrices\n",
        "# Y_train_cat = keras.utils.np_utils.to_categorical(Y_train, num_classes)\n",
        "# Y_test_cat = keras.utils.np_utils.to_categorical(Y_test, num_classes)\n",
        "\n",
        "# # train\n",
        "# history_handmade_cnn = handmade_cnn.fit(X_train, Y_train_cat, # training data\n",
        "#                     batch_size=2000,\n",
        "#                     epochs=100,\n",
        "#                     verbose=1,\n",
        "#                     validation_data=(X_test, Y_test_cat)) # testing data"
      ]
    },
    {
      "cell_type": "code",
      "execution_count": null,
      "metadata": {
        "id": "e-lUxt9KRupH"
      },
      "outputs": [],
      "source": [
        "# handmade_cnn_score = handmade_cnn.evaluate(X_test, Y_test_cat, verbose=0)\n",
        "# accuracy_handmade_cnn = handmade_cnn_score[1]\n",
        "# print('Handmade Model accuracy:', round(accuracy_handmade_cnn, 3) * 100, \"%\")"
      ]
    },
    {
      "cell_type": "code",
      "execution_count": null,
      "metadata": {
        "id": "3tg-lC1mZqAW"
      },
      "outputs": [],
      "source": [
        "# plot_accuracy_and_loss(history_handmade_cnn)"
      ]
    },
    {
      "cell_type": "markdown",
      "metadata": {
        "id": "5dkXsJZUIQS3"
      },
      "source": [
        "## Assess Accuracy"
      ]
    },
    {
      "cell_type": "code",
      "execution_count": null,
      "metadata": {
        "id": "HDdmpRWjQyCk"
      },
      "outputs": [],
      "source": [
        "# prediction_by_category(handmade_cnn, X_test)"
      ]
    },
    {
      "cell_type": "code",
      "execution_count": null,
      "metadata": {
        "id": "gnjMBnyZVFyY"
      },
      "outputs": [],
      "source": [
        "# plot_cm(handmade_cnn, X_test, \"Confusion Matrix, Handmade Model\")"
      ]
    },
    {
      "cell_type": "code",
      "execution_count": null,
      "metadata": {
        "id": "CpSv-qtzIt2d"
      },
      "outputs": [],
      "source": [
        "# # ROC curve - why so angular?\n",
        "# from sklearn.metrics import roc_curve, auc\n",
        "\n",
        "# predict_x=handmade_cnn.predict(X_test) # predictions with probabilities for each class\n",
        "# classes_x=np.argmax(predict_x,axis=1) # the class with the highest-predicted probabilities, i.e. the best guess\n",
        "# probabilities = handmade_cnn.predict(X_test)\n",
        "# probabilities_2 = np.argmax(probabilities, axis=1)\n",
        "\n",
        "# # Compute fpr, tpr, thresholds and roc auc\n",
        "# fpr, tpr, thresholds = roc_curve(Y_test, probabilities_2)\n",
        "# #fpr, tpr, thresholds = roc_curve(Y_test, classes_x)\n",
        "# roc_auc = auc(fpr, tpr)\n",
        "\n",
        "# # # Plot ROC curve\n",
        "# plt.plot(fpr, tpr, label='ROC curve (area = %0.3f)' % roc_auc)\n",
        "# plt.plot([0, 1], [0, 1], 'k--')  # random predictions curve\n",
        "# plt.xlim([0.0, 1.0])\n",
        "# plt.ylim([0.0, 1.0])\n",
        "# plt.xlabel('False Positive Rate or (1 - Specifity)')\n",
        "# plt.ylabel('True Positive Rate or (Sensitivity)')\n",
        "# plt.title('Receiver Operating Characteristic')\n",
        "# plt.legend(loc=\"lower right\")"
      ]
    },
    {
      "cell_type": "code",
      "execution_count": null,
      "metadata": {
        "id": "FQV5yyRDCopB"
      },
      "outputs": [],
      "source": [
        "# probabilities_2"
      ]
    },
    {
      "cell_type": "code",
      "execution_count": null,
      "metadata": {
        "id": "BGnrwfCCRjNo"
      },
      "outputs": [],
      "source": [
        "# plot_roc_curve(handmade_cnn, X_test)"
      ]
    },
    {
      "cell_type": "code",
      "execution_count": null,
      "metadata": {
        "id": "P5HJFoMRj6Hl"
      },
      "outputs": [],
      "source": [
        "# plot_false_positives(handmade_cnn, X_test)"
      ]
    },
    {
      "cell_type": "markdown",
      "metadata": {
        "id": "r3g-rqPh8Frx"
      },
      "source": [
        "# VGG-16"
      ]
    },
    {
      "cell_type": "code",
      "execution_count": null,
      "metadata": {
        "id": "CyfHCNn1SJCF"
      },
      "outputs": [],
      "source": [
        "# # load vgg model\n",
        "# from keras.applications.vgg16 import VGG16\n",
        "\n",
        "# # load the model\n",
        "# vgg16 = VGG16(weights='imagenet', include_top = False, input_shape=input_shape) # set VGG to trainable, set VGG to take images shaped as 64*64*3\n",
        "# #vgg16.summary()\n",
        "\n",
        "# # preprocess data for VGG16\n",
        "# from keras.applications.vgg16 import preprocess_input\n",
        "\n",
        "# X_train_vgg = preprocess_input(X_train) # normalize training data\n",
        "# X_test_vgg = preprocess_input(X_test) # normalize test data"
      ]
    },
    {
      "cell_type": "code",
      "execution_count": null,
      "metadata": {
        "id": "57BXP7nSVlTK"
      },
      "outputs": [],
      "source": [
        "# # Add last layers for our images\n",
        "# from tensorflow.keras import layers, models\n",
        "\n",
        "# flatten_layer = layers.Flatten()\n",
        "# dense_layer_1 = layers.Dense(50, activation='relu')\n",
        "# drop_out_layer = layers.Dropout(0.2)\n",
        "# dense_layer_2 = layers.Dense(20, activation='relu')\n",
        "# prediction_layer = layers.Dense(num_classes, activation='softmax')\n",
        "\n",
        "# # set model architecture\n",
        "# vgg16_model = models.Sequential([\n",
        "#     vgg16,\n",
        "#     flatten_layer,\n",
        "#     dense_layer_1,\n",
        "#     drop_out_layer,\n",
        "#     dense_layer_2,\n",
        "#     prediction_layer\n",
        "# ])"
      ]
    },
    {
      "cell_type": "code",
      "execution_count": null,
      "metadata": {
        "id": "-3PEh7mTVtA6"
      },
      "outputs": [],
      "source": [
        "# from tensorflow.keras.callbacks import EarlyStopping\n",
        "\n",
        "# vgg16_model.compile(\n",
        "#     optimizer='adam',\n",
        "#     loss='categorical_crossentropy',\n",
        "#     metrics=['accuracy'],\n",
        "# )\n",
        "\n",
        "\n",
        "# es = EarlyStopping(monitor='val_accuracy', mode='max', patience=5,  restore_best_weights=True)\n",
        "\n",
        "# # commenting out so it doesn't run accidentally - takes forever to run\n",
        "# history_vgg16 = vgg16_model.fit(X_train_vgg,\n",
        "#             Y_train_cat,\n",
        "#             epochs=50,\n",
        "#             validation_split=0.2,\n",
        "#             batch_size=32,\n",
        "#             callbacks=[es])"
      ]
    },
    {
      "cell_type": "code",
      "execution_count": null,
      "metadata": {
        "id": "eUv7mbsZVw7Y"
      },
      "outputs": [],
      "source": [
        "# vgg16_model_score = vgg16_model.evaluate(X_test_vgg, Y_test_cat, verbose=0)\n",
        "# accuracy_vgg16_model = vgg16_model_score[1]\n",
        "# print('VGG-16 Test accuracy:', round(accuracy_vgg16_model, 3) * 100, \"%\") "
      ]
    },
    {
      "cell_type": "code",
      "execution_count": null,
      "metadata": {
        "id": "dCf9AUXRaLKG"
      },
      "outputs": [],
      "source": [
        "# plot_accuracy_and_loss(history_vgg16)"
      ]
    },
    {
      "cell_type": "code",
      "execution_count": null,
      "metadata": {
        "id": "1nqdZp06RCNs"
      },
      "outputs": [],
      "source": [
        "# prediction_by_category(vgg16_model, X_test_vgg)"
      ]
    },
    {
      "cell_type": "code",
      "execution_count": null,
      "metadata": {
        "id": "jtWgRovaUk2-"
      },
      "outputs": [],
      "source": [
        "# plot_cm(vgg16_model, X_test_vgg, \"Confusion Matrix: VGG16\")"
      ]
    },
    {
      "cell_type": "code",
      "execution_count": null,
      "metadata": {
        "id": "C8Mc8q3iRrtv"
      },
      "outputs": [],
      "source": [
        "# plot_roc_curve(vgg16_model, X_test_vgg)"
      ]
    },
    {
      "cell_type": "code",
      "execution_count": null,
      "metadata": {
        "id": "WMvGGy6YkG_P"
      },
      "outputs": [],
      "source": [
        "#plot_false_positives(vgg16_model, X_test_vgg) # does not work because predicted no positives"
      ]
    },
    {
      "cell_type": "markdown",
      "metadata": {
        "id": "1t9XvBPX8ZN-"
      },
      "source": [
        "# EfficientNet V2\n",
        "https://arxiv.org/abs/2104.00298"
      ]
    },
    {
      "cell_type": "code",
      "execution_count": null,
      "metadata": {
        "id": "9_kUVnHL8lDi"
      },
      "outputs": [],
      "source": [
        "# # load model\n",
        "# from keras.applications.efficientnet_v2 import EfficientNetV2S\n",
        "\n",
        "# # load the model\n",
        "# eff_net = EfficientNetV2S(weights='imagenet', include_top = False, input_shape=input_shape) # set to trainable, set to take images shaped as 64*64*3\n",
        "# #eff_net.summary()\n",
        "\n",
        "# # preprocess data for EfficientNet\n",
        "# from keras.applications.efficientnet_v2 import preprocess_input\n",
        "\n",
        "# X_train_EN = preprocess_input(X_train) # normalize training data\n",
        "# X_test_EN = preprocess_input(X_test) # normalize test data"
      ]
    },
    {
      "cell_type": "code",
      "execution_count": null,
      "metadata": {
        "id": "7X0SPQHVFd7b"
      },
      "outputs": [],
      "source": [
        "# # Add last layers for our images\n",
        "\n",
        "# flatten_layer = layers.Flatten()\n",
        "# dense_layer_1 = layers.Dense(50, activation='relu')\n",
        "# drop_out_layer = layers.Dropout(0.2)\n",
        "# dense_layer_2 = layers.Dense(20, activation='relu')\n",
        "# prediction_layer = layers.Dense(num_classes, activation='softmax')\n",
        "\n",
        "# # set model architecture\n",
        "# efficient_net_model = models.Sequential([\n",
        "#     eff_net,\n",
        "#     flatten_layer,\n",
        "#     dense_layer_1,\n",
        "#     drop_out_layer,\n",
        "#     dense_layer_2,\n",
        "#     prediction_layer\n",
        "# ])"
      ]
    },
    {
      "cell_type": "code",
      "execution_count": null,
      "metadata": {
        "id": "5rnpf0-AFnZe"
      },
      "outputs": [],
      "source": [
        "# # Compile\n",
        "# efficient_net_model.compile(\n",
        "#     optimizer='adam',\n",
        "#     loss='categorical_crossentropy',\n",
        "#     metrics=['accuracy'],\n",
        "# )\n",
        "\n",
        "\n",
        "# es = EarlyStopping(monitor='val_accuracy', mode='max', patience=5,  restore_best_weights=True)\n",
        "\n",
        "# # Train\n",
        "# history_efficient_net = efficient_net_model.fit(X_train_EN,\n",
        "#             Y_train_cat,\n",
        "#             epochs=50,\n",
        "#             validation_split=0.2,\n",
        "#             batch_size=32,\n",
        "#             callbacks=[es])"
      ]
    },
    {
      "cell_type": "code",
      "execution_count": null,
      "metadata": {
        "id": "2eSRyIkVFvTO"
      },
      "outputs": [],
      "source": [
        "# efficient_net_model_score = efficient_net_model.evaluate(X_test_EN, Y_test_cat, verbose=0)\n",
        "# accuracy_eff_net = efficient_net_model_score[1]\n",
        "# print('EfficientNetV2 Test accuracy:', round(accuracy_eff_net, 3) * 100, \"%\") "
      ]
    },
    {
      "cell_type": "code",
      "execution_count": null,
      "metadata": {
        "id": "VIdCC2cFaQmy"
      },
      "outputs": [],
      "source": [
        "# plot_accuracy_and_loss(history_efficient_net)"
      ]
    },
    {
      "cell_type": "code",
      "execution_count": null,
      "metadata": {
        "id": "3NEICm1YVdO-"
      },
      "outputs": [],
      "source": [
        "# prediction_by_category(efficient_net_model, X_test_EN)"
      ]
    },
    {
      "cell_type": "code",
      "execution_count": null,
      "metadata": {
        "id": "T48vMyvMVfZz"
      },
      "outputs": [],
      "source": [
        "# plot_cm(efficient_net_model, X_test_EN, \"Confusion Matrix, EfficicentNetV2\")"
      ]
    },
    {
      "cell_type": "code",
      "execution_count": null,
      "metadata": {
        "id": "M1frEzMUR15M"
      },
      "outputs": [],
      "source": [
        "# plot_roc_curve(efficient_net_model, X_test_EN)"
      ]
    },
    {
      "cell_type": "code",
      "execution_count": null,
      "metadata": {
        "id": "uifVN7kTjcRv"
      },
      "outputs": [],
      "source": [
        "# plot_false_positives(efficient_net_model, X_test_EN)"
      ]
    }
  ],
  "metadata": {
    "accelerator": "GPU",
    "colab": {
      "collapsed_sections": [
        "r3g-rqPh8Frx",
        "1t9XvBPX8ZN-"
      ],
      "provenance": [],
      "include_colab_link": true
    },
    "gpuClass": "standard",
    "kernelspec": {
      "display_name": "musa-650",
      "language": "python",
      "name": "python3"
    },
    "language_info": {
      "codemirror_mode": {
        "name": "ipython",
        "version": 3
      },
      "file_extension": ".py",
      "mimetype": "text/x-python",
      "name": "python",
      "nbconvert_exporter": "python",
      "pygments_lexer": "ipython3",
      "version": "3.9.15"
    },
    "orig_nbformat": 4
  },
  "nbformat": 4,
  "nbformat_minor": 0
}